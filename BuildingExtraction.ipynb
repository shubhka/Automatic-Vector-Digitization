{
  "nbformat": 4,
  "nbformat_minor": 0,
  "metadata": {
    "colab": {
      "name": "BuildingExtraction.ipynb",
      "provenance": [],
      "authorship_tag": "ABX9TyNhWt5JC1w5l2bZxEJTfoZJ",
      "include_colab_link": true
    },
    "kernelspec": {
      "name": "python3",
      "display_name": "Python 3"
    },
    "language_info": {
      "name": "python"
    }
  },
  "cells": [
    {
      "cell_type": "markdown",
      "metadata": {
        "id": "view-in-github",
        "colab_type": "text"
      },
      "source": [
        "<a href=\"https://colab.research.google.com/github/shubhka/Automatic-Vector-Digitization/blob/main/BuildingExtraction.ipynb\" target=\"_parent\"><img src=\"https://colab.research.google.com/assets/colab-badge.svg\" alt=\"Open In Colab\"/></a>"
      ]
    },
    {
      "cell_type": "code",
      "execution_count": 1,
      "metadata": {
        "colab": {
          "base_uri": "https://localhost:8080/"
        },
        "id": "vPOf4luR4AyT",
        "outputId": "2ddb1e6d-8c5a-4315-f420-cc2dc90c7f00"
      },
      "outputs": [
        {
          "output_type": "stream",
          "name": "stdout",
          "text": [
            "Good Night World\n"
          ]
        }
      ],
      "source": [
        "print('Good Night World')"
      ]
    },
    {
      "cell_type": "code",
      "source": [
        ""
      ],
      "metadata": {
        "id": "B0CERsjT5DbK"
      },
      "execution_count": null,
      "outputs": []
    }
  ]
}